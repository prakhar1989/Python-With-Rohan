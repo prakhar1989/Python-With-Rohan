{
 "metadata": {
  "name": "",
  "signature": "sha256:dfef3c4ffc6156e5f48fdd97c7e6721c4ef97e6716629d54c221bfc733b077e1"
 },
 "nbformat": 3,
 "nbformat_minor": 0,
 "worksheets": [
  {
   "cells": [
    {
     "cell_type": "code",
     "collapsed": false,
     "input": [
      "def find_sum(numbers):\n",
      "    total = 0\n",
      "    for n in numbers:\n",
      "        total = total + n\n",
      "    return total\n",
      "\n",
      "find_sum([10, 2, 142])"
     ],
     "language": "python",
     "metadata": {},
     "outputs": [
      {
       "metadata": {},
       "output_type": "pyout",
       "prompt_number": 3,
       "text": [
        "154"
       ]
      }
     ],
     "prompt_number": 3
    },
    {
     "cell_type": "code",
     "collapsed": false,
     "input": [],
     "language": "python",
     "metadata": {},
     "outputs": []
    }
   ],
   "metadata": {}
  }
 ]
}