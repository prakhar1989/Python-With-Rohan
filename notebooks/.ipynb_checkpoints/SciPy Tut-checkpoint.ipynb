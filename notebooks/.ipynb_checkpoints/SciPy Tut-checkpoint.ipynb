{
 "metadata": {
  "name": "",
  "signature": "sha256:026cd102437a519926cf25eb36589d9fc92d85e1d826f03aadf510d340441582"
 },
 "nbformat": 3,
 "nbformat_minor": 0,
 "worksheets": [
  {
   "cells": [
    {
     "cell_type": "code",
     "collapsed": false,
     "input": [],
     "language": "python",
     "metadata": {},
     "outputs": []
    },
    {
     "cell_type": "code",
     "collapsed": false,
     "input": [],
     "language": "python",
     "metadata": {},
     "outputs": []
    }
   ],
   "metadata": {}
  }
 ]
}