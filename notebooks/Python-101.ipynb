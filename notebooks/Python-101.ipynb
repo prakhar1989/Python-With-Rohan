{
 "metadata": {
  "name": "",
  "signature": "sha256:a491ccf84f9e39f126845f801284a48d5739e13a2ce8ef43b4e946c5e05f3368"
 },
 "nbformat": 3,
 "nbformat_minor": 0,
 "worksheets": [
  {
   "cells": [
    {
     "cell_type": "code",
     "collapsed": false,
     "input": [
      "def find_sum(numbers):\n",
      "    total = 0\n",
      "    for n in numbers:\n",
      "        total = total + n\n",
      "    return total\n",
      "\n",
      "find_sum([10, 2, 142])"
     ],
     "language": "python",
     "metadata": {},
     "outputs": [
      {
       "metadata": {},
       "output_type": "pyout",
       "prompt_number": 3,
       "text": [
        "154"
       ]
      }
     ],
     "prompt_number": 3
    },
    {
     "cell_type": "code",
     "collapsed": false,
     "input": [
      "# if conditions\n",
      "\n",
      "age = 23\n",
      "\n",
      "if age > 18:\n",
      "    print \"you are old\"\n",
      "else:\n",
      "    print \"you are young\""
     ],
     "language": "python",
     "metadata": {},
     "outputs": [
      {
       "output_type": "stream",
       "stream": "stdout",
       "text": [
        "you are old\n"
       ]
      }
     ],
     "prompt_number": 7
    },
    {
     "cell_type": "code",
     "collapsed": false,
     "input": [
      "# for loops\n",
      "def multiple_names(name):\n",
      "    large_string = \"\"\n",
      "    for i in range(4):\n",
      "        large_string += name\n",
      "    return large_string\n",
      "    \n",
      "multiple_names(\"prakar\")"
     ],
     "language": "python",
     "metadata": {},
     "outputs": [
      {
       "metadata": {},
       "output_type": "pyout",
       "prompt_number": 9,
       "text": [
        "'prakarprakarprakarprakar'"
       ]
      }
     ],
     "prompt_number": 9
    }
   ],
   "metadata": {}
  }
 ]
}